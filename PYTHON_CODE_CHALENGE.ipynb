{
 "cells": [
  {
   "cell_type": "markdown",
   "metadata": {},
   "source": [
    "# PYTHON_CODE_CHALENGE"
   ]
  },
  {
   "cell_type": "code",
   "execution_count": null,
   "metadata": {},
   "outputs": [],
   "source": [
    "# Encontrar factores primos.\n",
    "def primos(valor):\n",
    "    coeficientes = []\n",
    "    n = 2\n",
    "    while(n <= valor):\n",
    "        if (valor % n) == 0:\n",
    "            coeficientes.append(n)\n",
    "            valor = valor//n\n",
    "        else:\n",
    "            n +=1\n",
    "    return coeficientes\n",
    "\n",
    "primos(630) "
   ]
  },
  {
   "cell_type": "code",
   "execution_count": null,
   "metadata": {},
   "outputs": [],
   "source": [
    "# Palindromos\n",
    "def palindrome(cadena):\n",
    "    quita_espacios = cadena.replace(' ','')                                      # Elimina espacios.\n",
    "    solo_letras = ''.join([i for i in quita_espacios if i.isnumeric() == True])  # Deja solo las letras.\n",
    "    todo_minuscula = solo_letras.lower()                                         # Todo a min.\n",
    "    reversa = todo_minuscula[::-1]                                               # Slice: -1 orden inverso.\n",
    "    return todo_minuscula == reversa\n",
    "\n",
    "palindrome('¡r/ace_ca+r!')"
   ]
  },
  {
   "cell_type": "code",
   "execution_count": null,
   "metadata": {},
   "outputs": [],
   "source": [
    "# Ordenar palabras alfabeticamente.\n",
    "def sort_string(cadena):\n",
    "    return sorted(cadena.split(), key = str.casefold)   #casfold mantiene mayusc y min (pero parece que no es necesario)\n",
    "\n",
    "sort_string('zulu hola sol ALCE')"
   ]
  },
  {
   "cell_type": "code",
   "execution_count": null,
   "metadata": {},
   "outputs": [],
   "source": [
    "# Encontrar todos los items de una lista\n",
    "def index_all(search_list, item):\n",
    "    indices = []\n",
    "    for i in range(len(search_list)):\n",
    "        if search_list[i] == item:\n",
    "            indices.append([i])\n",
    "        elif isinstance(search_list[i], list):\n",
    "            for index in index_all(search_list[i], item):\n",
    "                indices.append([i]+index) \n",
    "    return indices"
   ]
  }
 ],
 "metadata": {
  "kernelspec": {
   "display_name": "Python 3 (ipykernel)",
   "language": "python",
   "name": "python3"
  },
  "language_info": {
   "codemirror_mode": {
    "name": "ipython",
    "version": 3
   },
   "file_extension": ".py",
   "mimetype": "text/x-python",
   "name": "python",
   "nbconvert_exporter": "python",
   "pygments_lexer": "ipython3",
   "version": "3.8.10"
  }
 },
 "nbformat": 4,
 "nbformat_minor": 4
}
