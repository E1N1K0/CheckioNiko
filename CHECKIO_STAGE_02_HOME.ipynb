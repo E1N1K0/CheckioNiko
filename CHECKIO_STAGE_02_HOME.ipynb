{
 "cells": [
  {
   "cell_type": "markdown",
   "metadata": {},
   "source": [
    "# CHECKIO_STAGE_02_HOME"
   ]
  },
  {
   "cell_type": "code",
   "execution_count": null,
   "metadata": {},
   "outputs": [],
   "source": [
    "#EJERCICIO 14: Sum Numbers\n",
    "#In a given text you need to sum the numbers while excluding any digits that form part of a word.\n",
    "#The text consists of numbers, spaces and letters from the English alphabet.\n",
    "#Input: A string.\n",
    "#Output: An int.\n",
    "#ANALISIS: #una vez dividido evluar si cada palabra es numero, si es asi, incorporarla a append y sumar.\n",
    "\n",
    "def sum_numbers(text: str) -> int:\n",
    "    # your code here\n",
    "    a = text.split()\n",
    "    b = [int(i) for i in a if i.isnumeric() == True] \n",
    "    return sum(b) "
   ]
  },
  {
   "cell_type": "code",
   "execution_count": null,
   "metadata": {},
   "outputs": [],
   "source": [
    "#EJERCICIO 15:\n",
    "#You are given an array of integers. You should find the sum of the integers with even indexes (0th, 2nd, 4th...). \n",
    "#Then multiply this summed number and the final element of the array together. \n",
    "#Don't forget that the first element has an index of 0.\n",
    "\n",
    "def checkio(array: list) -> int:\n",
    "    b = [array[i] for i in range(0, len(array), 2)]\n",
    "    c = array = 0 if len(array) == 0 else array[-1]\n",
    "    return sum(b) * c  "
   ]
  },
  {
   "cell_type": "code",
   "execution_count": null,
   "metadata": {},
   "outputs": [],
   "source": [
    "#EJERCICIO 16: Detect three words in succesion.\n",
    "#You are given a string with words and numbers separated by whitespaces (one space). The words contains only letters. You should check if the string contains three words in succession . For example, the string \"start 5 one two three 7 end\" contains three words in succession.\n",
    "    \n",
    "def checkio(words: str) -> bool:  \n",
    "    b = words.split()\n",
    "    detecta_pal = [0 if i.isnumeric() == True else 1 for i in b]\n",
    "    three_words = [1 if detecta_pal[j] + detecta_pal[j+1] + detecta_pal[j+2] == 3 else 0 for j in range(0, len(detecta_pal)-2)]\n",
    "    return False if len(detecta_pal) < 3 or sum(three_words) < 1 else True "
   ]
  },
  {
   "cell_type": "code",
   "execution_count": null,
   "metadata": {},
   "outputs": [],
   "source": [
    "#EJERCICIO 17:  you should replace all cases of the words \"right\" with the word \"left\", even if it's a part of another word\n",
    "def left_join(phrases: tuple) -> str:\n",
    "    text = ','.join(phrases)                    #Une todos los elementos en un string  separados por coma (para poder utilizar find)\n",
    "    while text.find('right') != -1:             #Cuendo se encuentre la palabra -1(no se encuentra)\n",
    "        text = text.replace('right', 'left')    #Reemplacelas y las almacena como text\n",
    "    return text"
   ]
  },
  {
   "cell_type": "code",
   "execution_count": null,
   "metadata": {},
   "outputs": [],
   "source": [
    "#EJERCICIO 18: First Word\n",
    "#When solving a task pay attention to the following points:\n",
    "#There can be dots and commas in a string.\n",
    "#A string can start with a letter or, for example, a dot or space.\n",
    "#A word can contain an apostrophe and it's a part of a word.\n",
    "#The whole text can be represented with one word and that's it.\n",
    "#first_word = lambda t: ''.join([x, ' '][x in '.,'] for x in t).split()[0]\n",
    "#Estrategia: Reconocer solo letras con isalpha. Obtener la primera con [0]\n",
    "\n",
    "def first_word(text: str) -> str:\n",
    "    # your code here\n",
    "    a = [i if i.isalpha() or i == \"'\" else ' ' for i in text]   #separa todas los caracteres(con i). Reemplaza lo que no es letra o apostrofe lo reemplaza por \n",
    "    b = str(''.join(a))                                         #The join() method takes all items in an iterable and joins them into one string. A string must be specified as the separator.\n",
    "    c = b.split()[0]                                            #Separa la primera \"palabra\"    \n",
    "    return c"
   ]
  },
  {
   "cell_type": "code",
   "execution_count": null,
   "metadata": {},
   "outputs": [],
   "source": [
    "#EJERCICIO 19: Days Between\n",
    "#Dates between 1 january 1 and 31 december 9999. Dates are correct.\n",
    "\n",
    "import datetime                          #Requiere importar para tener el calendario (y contar cuantos dias tiene cada mes etc)\n",
    "\n",
    "def days_diff(a, b):                     #Requiere importar para tener el calendario (y contar cuantos dias tiene cada mes etc)\n",
    "    # your code here       \n",
    "    fecha1 = datetime.date(a[0], a[1], a[2]) #Esto reemplaza hacia d1 = datetime.date(*fecha1)\n",
    "    fecha2 = datetime.date(b[0], b[1], b[2]) #Esto reemplaza hacia d2 = datetime.date(*fecha2)\n",
    "    \n",
    "    return abs(fecha1-fecha2).days"
   ]
  },
  {
   "cell_type": "code",
   "execution_count": null,
   "metadata": {},
   "outputs": [],
   "source": [
    "#EJERCICIO 20: Count Digits\n",
    "\n",
    "def count_digits(text: str) -> int:\n",
    "    # your code here\n",
    "    #b = [1 for i in text if i.isdigit() == True]    #Genera lista si hay numeros dentro del array. Con len cuento los elementos de la lista.\n",
    "    return sum([1 for i in text if i.isdigit() == True])"
   ]
  },
  {
   "cell_type": "code",
   "execution_count": null,
   "metadata": {},
   "outputs": [],
   "source": [
    "#EJERCICIO 21: Backward Each Word: \n",
    "#In a given string you should reverse every word, but the words should stay in their places.\n",
    "\n",
    "def backward_string_by_word(text: str) -> str:\n",
    "    # your code here\n",
    "    return ' '.join([i[::-1] for i in text.split(' ')])  #divide texto en palabras respetando espacios, recorre i para justar en reversa separado por espacio ' '"
   ]
  },
  {
   "cell_type": "code",
   "execution_count": null,
   "metadata": {},
   "outputs": [],
   "source": [
    "#EJERCICIO 22: Bigger Price\n",
    "#You have a table with all available goods in the store. The data is represented as a list of dicts\n",
    "#Your mission here is to find the TOP most expensive goods. \n",
    "#The amount we are looking for will be given as a first argument and the whole data as the second one\n",
    "#Input: int and list of dicts. Each dicts has two keys \"name\" and \"price\"\n",
    "#Output: the same as the second Input argument.\n",
    "\n",
    "import operator                    #Importe operator que me permite hacer sort por la columna price y filtrado en la cant de resultado limit\n",
    "\n",
    "def bigger_price(limit: int, data: list) -> list:\n",
    "    # your code here\n",
    "    return sorted(data, key=operator.itemgetter(\"price\"), reverse=True)[0:limit]  "
   ]
  },
  {
   "cell_type": "code",
   "execution_count": null,
   "metadata": {},
   "outputs": [],
   "source": [
    "#EJERCICIO 23: Between Markers\n",
    "#https://py.checkio.org/en/mission/between-markers/\n",
    "#You are given a string and two markers (the initial and final). \n",
    "#You have to find a substring enclosed between these two markers. \n",
    "#But there are a few important conditions:\n",
    "#The initial and final markers are always different.\n",
    "#If there is no initial marker, then the first character should be considered the beginning of a string.\n",
    "#If there is no final marker, then the last character should be considered the ending of a string.\n",
    "#If the initial and final markers are missing then simply return the whole string.\n",
    "#If the final marker comes before the initial marker, then return an empty string.\n",
    "#Input: Three arguments. All of them are strings. The second and third arguments are the initial and final markers.\n",
    "#Output: A string.\n",
    "#Ejemplos:\n",
    "#between_markers('What is >apple<', '>', '<') == 'apple'\n",
    "#between_markers('No[/b] hi', '[b]', '[/b]') == 'No'"
   ]
  }
 ],
 "metadata": {
  "kernelspec": {
   "display_name": "Python 3 (ipykernel)",
   "language": "python",
   "name": "python3"
  },
  "language_info": {
   "codemirror_mode": {
    "name": "ipython",
    "version": 3
   },
   "file_extension": ".py",
   "mimetype": "text/x-python",
   "name": "python",
   "nbconvert_exporter": "python",
   "pygments_lexer": "ipython3",
   "version": "3.8.10"
  }
 },
 "nbformat": 4,
 "nbformat_minor": 4
}
